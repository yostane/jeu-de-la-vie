{
 "cells": [
  {
   "cell_type": "markdown",
   "metadata": {},
   "source": [
    "# Utilisation des librairies numpy et matplotlib\n",
    "\n",
    "- numpy est une librairie permettant de simplifier la manipulation des matrices\n",
    "- matplotlib est une librairie permettant de dessiner des graphiques\n",
    "- Elles sont installées avec pip: `pip install matplotlib numpy`"
   ]
  },
  {
   "cell_type": "markdown",
   "metadata": {},
   "source": [
    "## numpy\n",
    "\n",
    "- `np.zeros` permet de générer des zéros"
   ]
  },
  {
   "cell_type": "code",
   "execution_count": 1,
   "metadata": {},
   "outputs": [
    {
     "name": "stdout",
     "output_type": "stream",
     "text": [
      "l1 [0. 0. 0. 0. 0.]\n"
     ]
    },
    {
     "data": {
      "text/html": [
       "<div>\n",
       "<style scoped>\n",
       "    .dataframe tbody tr th:only-of-type {\n",
       "        vertical-align: middle;\n",
       "    }\n",
       "\n",
       "    .dataframe tbody tr th {\n",
       "        vertical-align: top;\n",
       "    }\n",
       "\n",
       "    .dataframe thead th {\n",
       "        text-align: right;\n",
       "    }\n",
       "</style>\n",
       "<table border=\"1\" class=\"dataframe\">\n",
       "  <thead>\n",
       "    <tr style=\"text-align: right;\">\n",
       "      <th></th>\n",
       "      <th>0</th>\n",
       "      <th>1</th>\n",
       "      <th>2</th>\n",
       "      <th>3</th>\n",
       "      <th>4</th>\n",
       "    </tr>\n",
       "  </thead>\n",
       "  <tbody>\n",
       "    <tr>\n",
       "      <th>0</th>\n",
       "      <td>0.0</td>\n",
       "      <td>0.0</td>\n",
       "      <td>0.0</td>\n",
       "      <td>0.0</td>\n",
       "      <td>0.0</td>\n",
       "    </tr>\n",
       "    <tr>\n",
       "      <th>1</th>\n",
       "      <td>0.0</td>\n",
       "      <td>0.0</td>\n",
       "      <td>0.0</td>\n",
       "      <td>0.0</td>\n",
       "      <td>0.0</td>\n",
       "    </tr>\n",
       "  </tbody>\n",
       "</table>\n",
       "</div>"
      ],
      "text/plain": [
       "     0    1    2    3    4\n",
       "0  0.0  0.0  0.0  0.0  0.0\n",
       "1  0.0  0.0  0.0  0.0  0.0"
      ]
     },
     "execution_count": 1,
     "metadata": {},
     "output_type": "execute_result"
    }
   ],
   "source": [
    "import numpy as np\n",
    "import pandas as pd\n",
    "\n",
    "l1 = np.zeros(5)\n",
    "print(\"l1\", l1)\n",
    "\n",
    "l2 = np.zeros((2, 5))\n",
    "pd.DataFrame(l2)"
   ]
  },
  {
   "cell_type": "markdown",
   "metadata": {},
   "source": [
    "- `np.random.choice` permet de générer des données aléatoirement avec une proba"
   ]
  },
  {
   "cell_type": "code",
   "execution_count": 3,
   "metadata": {},
   "outputs": [
    {
     "name": "stdout",
     "output_type": "stream",
     "text": [
      "['D' 'B' 'B' 'D' 'C' 'A' 'B' 'B' 'B' 'A']\n"
     ]
    }
   ],
   "source": [
    "import numpy as np\n",
    "import pandas as pd\n",
    "\n",
    "N = 10\n",
    "p = 0.25\n",
    "vals = [\"A\", \"B\", \"C\", \"D\"]\n",
    "\n",
    "items = np.random.choice(vals, N, p=[p, p, p, p])\n",
    "print(items)"
   ]
  },
  {
   "cell_type": "code",
   "execution_count": 8,
   "metadata": {},
   "outputs": [
    {
     "data": {
      "text/html": [
       "<div>\n",
       "<style scoped>\n",
       "    .dataframe tbody tr th:only-of-type {\n",
       "        vertical-align: middle;\n",
       "    }\n",
       "\n",
       "    .dataframe tbody tr th {\n",
       "        vertical-align: top;\n",
       "    }\n",
       "\n",
       "    .dataframe thead th {\n",
       "        text-align: right;\n",
       "    }\n",
       "</style>\n",
       "<table border=\"1\" class=\"dataframe\">\n",
       "  <thead>\n",
       "    <tr style=\"text-align: right;\">\n",
       "      <th></th>\n",
       "      <th>0</th>\n",
       "      <th>1</th>\n",
       "      <th>2</th>\n",
       "      <th>3</th>\n",
       "    </tr>\n",
       "  </thead>\n",
       "  <tbody>\n",
       "    <tr>\n",
       "      <th>0</th>\n",
       "      <td>True</td>\n",
       "      <td>True</td>\n",
       "      <td>True</td>\n",
       "      <td>True</td>\n",
       "    </tr>\n",
       "    <tr>\n",
       "      <th>1</th>\n",
       "      <td>True</td>\n",
       "      <td>True</td>\n",
       "      <td>True</td>\n",
       "      <td>True</td>\n",
       "    </tr>\n",
       "    <tr>\n",
       "      <th>2</th>\n",
       "      <td>True</td>\n",
       "      <td>True</td>\n",
       "      <td>False</td>\n",
       "      <td>True</td>\n",
       "    </tr>\n",
       "    <tr>\n",
       "      <th>3</th>\n",
       "      <td>True</td>\n",
       "      <td>True</td>\n",
       "      <td>True</td>\n",
       "      <td>True</td>\n",
       "    </tr>\n",
       "  </tbody>\n",
       "</table>\n",
       "</div>"
      ],
      "text/plain": [
       "      0     1      2     3\n",
       "0  True  True   True  True\n",
       "1  True  True   True  True\n",
       "2  True  True  False  True\n",
       "3  True  True   True  True"
      ]
     },
     "execution_count": 8,
     "metadata": {},
     "output_type": "execute_result"
    }
   ],
   "source": [
    "import numpy as np\n",
    "import pandas as pd\n",
    "\n",
    "N = 4\n",
    "p = 0.8\n",
    "vals = [False, True]\n",
    "\n",
    "grid = np.random.choice(vals, N*N, p=[1-p, p]).reshape(N, N)\n",
    "pd.DataFrame(grid)"
   ]
  },
  {
   "cell_type": "markdown",
   "metadata": {},
   "source": [
    "## matplotlib\n",
    "\n",
    "- Une des fonctions de matplotlib est de dessiner une matrice"
   ]
  },
  {
   "cell_type": "code",
   "execution_count": 3,
   "metadata": {},
   "outputs": [
    {
     "data": {
      "image/png": "[encoded data removed]",
      "text/plain": [
       "<Figure size 640x480 with 1 Axes>"
      ]
     },
     "metadata": {},
     "output_type": "display_data"
    }
   ],
   "source": [
    "import numpy as np\n",
    "import matplotlib.pyplot as plt\n",
    "\n",
    "N = 4\n",
    "p = 0.8\n",
    "vals = [False, True]\n",
    "\n",
    "grid = np.random.choice(vals, N*N, p=[1-p, p]).reshape(N, N)\n",
    "\n",
    "fig, ax = plt.subplots()\n",
    "# Remplacer grid par votre matrice\n",
    "mat = ax.matshow(grid) \n",
    "plt.show()\n"
   ]
  },
  {
   "cell_type": "markdown",
   "metadata": {},
   "source": [
    "- `ListedColormap` permet de changer la couleur des cellules\n",
    "\n",
    "```py\n",
    "from matplotlib.colors import ListedColormap\n",
    "cmap = ListedColormap(['k', 'w', 'r'])\n",
    "# ou en RGB ListedColormap([[0, 0, 0], [1, 1, 1], [1, 0, 0]])\n",
    "cax = ax.matshow(x,cmap=cmap)\n",
    "```"
   ]
  },
  {
   "cell_type": "code",
   "execution_count": 6,
   "metadata": {},
   "outputs": [
    {
     "name": "stdout",
     "output_type": "stream",
     "text": [
      "   0  1  2  3\n",
      "0  1  1  1  1\n",
      "1  0  1  0  1\n",
      "2  1  1  0  1\n",
      "3  1  2  1  2\n"
     ]
    },
    {
     "data": {
      "image/png": "[encoded data removed]",
      "text/plain": [
       "<Figure size 640x480 with 1 Axes>"
      ]
     },
     "metadata": {},
     "output_type": "display_data"
    }
   ],
   "source": [
    "import numpy as np\n",
    "import pandas as pd\n",
    "import matplotlib.pyplot as plt\n",
    "from matplotlib.colors import ListedColormap\n",
    "\n",
    "N = 4\n",
    "p = 0.6\n",
    "vals = [0, 1, 2]\n",
    "# [0.5, 0.2, 0.2] -> rgb. w -> white, b -> blue\n",
    "cmap = ListedColormap([[0.5, 0.2, 0.2], 'w', 'b'])\n",
    "grid = np.random.choice(vals, N*N, p=[1-p-0.2, p, 0.2]).reshape(N, N)\n",
    "\n",
    "print(pd.DataFrame(grid))\n",
    "\n",
    "fig, ax = plt.subplots()\n",
    "mat = ax.matshow(grid, cmap = cmap)\n",
    "plt.show()"
   ]
  },
  {
   "cell_type": "markdown",
   "metadata": {},
   "source": [
    "- La composante `animation` de `matplotlib` permet de mettre à jour le graphique.\n",
    "- Il faut appeler la méthode `animation.FuncAnimation(fig, update, interval=50, save_count=50)`.\n",
    "  - update: fonction à définir qui retourne les nouvelles valeurs de la matrice.\n",
    "- ⚠: Les animations ne fonctionnent pas sur un navigateuer."
   ]
  },
  {
   "cell_type": "code",
   "execution_count": 7,
   "metadata": {},
   "outputs": [
    {
     "data": {
      "image/png": "[encoded data removed]",
      "text/plain": [
       "<Figure size 640x480 with 1 Axes>"
      ]
     },
     "metadata": {},
     "output_type": "display_data"
    }
   ],
   "source": [
    "import numpy as np\n",
    "import matplotlib.pyplot as plt\n",
    "import matplotlib.animation as animation\n",
    "\n",
    "N = 4\n",
    "p = 0.8\n",
    "vals = [False, True]\n",
    "grid = np.random.choice(vals, N*N, p=[1-p, p]).reshape(N, N)\n",
    "\n",
    "fig, ax = plt.subplots()\n",
    "mat = ax.matshow(grid)\n",
    "\n",
    "\n",
    "def update(frame):\n",
    "    grid = np.random.choice(vals, N*N, p=[1-p, p]).reshape(N, N)\n",
    "    mat.set_data(grid)\n",
    "\n",
    "ani = animation.FuncAnimation(fig, update, interval=100, save_count=50)\n",
    "plt.show()\n"
   ]
  },
  {
   "cell_type": "markdown",
   "metadata": {},
   "source": [
    "## Exercices\n",
    "\n",
    "Utiliser numpy pour faire ces exercices:\n",
    "\n",
    "1. Créer une matrice de 3 lignes et 5 colonnes ne contenant que des False.\n",
    "1. Créer une matrice de 5 lignes et 5 colonnes contenant aléatoirement True ou False. (astuce: `bool(random.getrandbits(1))`)\n",
    "1. Créer une matrice de 6 lignes et 4 colonnes qui contient les lettres de l'alphabet de gauche à droite et de haut en bas.\n",
    "1. Définir une fonction define_life_grid(m, n) qui génère une grille de m lignes et n colonnes contenant aléatoirement True ou False.\n",
    "1. Définir une fonction define_life_grid(m, n, p) qui génère une grille de m lignes et n colonnes contenant aléatoirement True ou False, avec la probabilité p d'avoir True. (astuce: `True if random.random() < p else False`)\n",
    "\n",
    "Bonus: faire ces mêmes exercices sans utiliser numpy."
   ]
  }
 ],
 "metadata": {
  "kernelspec": {
   "display_name": "Python 3.11.0 64-bit",
   "language": "python",
   "name": "python3"
  },
  "language_info": {
   "codemirror_mode": {
    "name": "ipython",
    "version": 3
   },
   "file_extension": ".py",
   "mimetype": "text/x-python",
   "name": "python",
   "nbconvert_exporter": "python",
   "pygments_lexer": "ipython3",
   "version": "3.11.7"
  },
  "orig_nbformat": 4,
  "vscode": {
   "interpreter": {
    "hash": "12d34147660ad040bf29c06cb999f9351a730cb5c0cc3b5a8b9359c52ff63857"
   }
  }
 },
 "nbformat": 4,
 "nbformat_minor": 2
}
