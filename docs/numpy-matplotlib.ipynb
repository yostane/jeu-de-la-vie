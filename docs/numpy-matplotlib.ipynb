{
 "cells": [
  {
   "cell_type": "markdown",
   "metadata": {},
   "source": [
    "# Utilisation des librairies numpy et matplotlib\n",
    "\n",
    "- numpy est une librairie permettant de simplifier la manipulation des matrices\n",
    "- matplotlib est une librairie permettant de dessiner des graphiques\n",
    "- Elles sont installées avec pip: `pip install matplotlib numpy`"
   ]
  },
  {
   "cell_type": "markdown",
   "metadata": {},
   "source": [
    "## numpy\n",
    "\n",
    "- `np.zeros` permet de générer des zéros"
   ]
  },
  {
   "cell_type": "code",
   "execution_count": 5,
   "metadata": {},
   "outputs": [
    {
     "name": "stdout",
     "output_type": "stream",
     "text": [
      "l1 [0. 0. 0. 0. 0.]\n"
     ]
    },
    {
     "data": {
      "text/html": [
       "<div>\n",
       "<style scoped>\n",
       "    .dataframe tbody tr th:only-of-type {\n",
       "        vertical-align: middle;\n",
       "    }\n",
       "\n",
       "    .dataframe tbody tr th {\n",
       "        vertical-align: top;\n",
       "    }\n",
       "\n",
       "    .dataframe thead th {\n",
       "        text-align: right;\n",
       "    }\n",
       "</style>\n",
       "<table border=\"1\" class=\"dataframe\">\n",
       "  <thead>\n",
       "    <tr style=\"text-align: right;\">\n",
       "      <th></th>\n",
       "      <th>0</th>\n",
       "      <th>1</th>\n",
       "      <th>2</th>\n",
       "      <th>3</th>\n",
       "      <th>4</th>\n",
       "    </tr>\n",
       "  </thead>\n",
       "  <tbody>\n",
       "    <tr>\n",
       "      <th>0</th>\n",
       "      <td>0.0</td>\n",
       "      <td>0.0</td>\n",
       "      <td>0.0</td>\n",
       "      <td>0.0</td>\n",
       "      <td>0.0</td>\n",
       "    </tr>\n",
       "    <tr>\n",
       "      <th>1</th>\n",
       "      <td>0.0</td>\n",
       "      <td>0.0</td>\n",
       "      <td>0.0</td>\n",
       "      <td>0.0</td>\n",
       "      <td>0.0</td>\n",
       "    </tr>\n",
       "  </tbody>\n",
       "</table>\n",
       "</div>"
      ],
      "text/plain": [
       "     0    1    2    3    4\n",
       "0  0.0  0.0  0.0  0.0  0.0\n",
       "1  0.0  0.0  0.0  0.0  0.0"
      ]
     },
     "execution_count": 5,
     "metadata": {},
     "output_type": "execute_result"
    }
   ],
   "source": [
    "import numpy as np\n",
    "import pandas as pd\n",
    "\n",
    "l1 = np.zeros(5)\n",
    "print(\"l1\", l1)\n",
    "\n",
    "l2 = np.zeros((2, 5))\n",
    "pd.DataFrame(l2)"
   ]
  },
  {
   "cell_type": "markdown",
   "metadata": {},
   "source": [
    "- `np.random.choice` permet de générer des données aléatoirement avec une proba"
   ]
  },
  {
   "cell_type": "code",
   "execution_count": 8,
   "metadata": {},
   "outputs": [
    {
     "data": {
      "text/html": [
       "<div>\n",
       "<style scoped>\n",
       "    .dataframe tbody tr th:only-of-type {\n",
       "        vertical-align: middle;\n",
       "    }\n",
       "\n",
       "    .dataframe tbody tr th {\n",
       "        vertical-align: top;\n",
       "    }\n",
       "\n",
       "    .dataframe thead th {\n",
       "        text-align: right;\n",
       "    }\n",
       "</style>\n",
       "<table border=\"1\" class=\"dataframe\">\n",
       "  <thead>\n",
       "    <tr style=\"text-align: right;\">\n",
       "      <th></th>\n",
       "      <th>0</th>\n",
       "      <th>1</th>\n",
       "      <th>2</th>\n",
       "      <th>3</th>\n",
       "    </tr>\n",
       "  </thead>\n",
       "  <tbody>\n",
       "    <tr>\n",
       "      <th>0</th>\n",
       "      <td>True</td>\n",
       "      <td>True</td>\n",
       "      <td>True</td>\n",
       "      <td>True</td>\n",
       "    </tr>\n",
       "    <tr>\n",
       "      <th>1</th>\n",
       "      <td>True</td>\n",
       "      <td>True</td>\n",
       "      <td>True</td>\n",
       "      <td>True</td>\n",
       "    </tr>\n",
       "    <tr>\n",
       "      <th>2</th>\n",
       "      <td>True</td>\n",
       "      <td>True</td>\n",
       "      <td>False</td>\n",
       "      <td>True</td>\n",
       "    </tr>\n",
       "    <tr>\n",
       "      <th>3</th>\n",
       "      <td>True</td>\n",
       "      <td>True</td>\n",
       "      <td>True</td>\n",
       "      <td>False</td>\n",
       "    </tr>\n",
       "  </tbody>\n",
       "</table>\n",
       "</div>"
      ],
      "text/plain": [
       "      0     1      2      3\n",
       "0  True  True   True   True\n",
       "1  True  True   True   True\n",
       "2  True  True  False   True\n",
       "3  True  True   True  False"
      ]
     },
     "execution_count": 8,
     "metadata": {},
     "output_type": "execute_result"
    }
   ],
   "source": [
    "N = 4\n",
    "p = 0.8\n",
    "vals = [False, True]\n",
    "\n",
    "grid = np.random.choice(vals, N*N, p=[1-p, p]).reshape(N, N)\n",
    "pd.DataFrame(grid)"
   ]
  },
  {
   "cell_type": "markdown",
   "metadata": {},
   "source": [
    "## matplotlib\n",
    "\n",
    "- Une des fonctions de matplotlib est de dessiner une matrice"
   ]
  },
  {
   "cell_type": "code",
   "execution_count": 19,
   "metadata": {},
   "outputs": [
    {
     "data": {
      "application/vnd.jupyter.widget-view+json": {
       "model_id": "a81052667d8447e09eefb201ed3ebe79",
       "version_major": 2,
       "version_minor": 0
      },
      "image/png": "[encoded data removed]",
      "text/html": [
       "\n",
       "            <div style=\"display: inline-block;\">\n",
       "                <div class=\"jupyter-widgets widget-label\" style=\"text-align: center;\">\n",
       "                    Figure\n",
       "                </div>\n",
       "                <img src='data:image/png;base64,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' width=640.0/>\n",
       "            </div>\n",
       "        "
      ],
      "text/plain": [
       "Canvas(toolbar=Toolbar(toolitems=[('Home', 'Reset original view', 'home', 'home'), ('Back', 'Back to previous …"
      ]
     },
     "metadata": {},
     "output_type": "display_data"
    }
   ],
   "source": [
    "import numpy as np\n",
    "import matplotlib.pyplot as plt\n",
    "\n",
    "grid = np.random.choice(vals, N*N, p=[1-p, p]).reshape(N, N)\n",
    "\n",
    "fig, ax = plt.subplots()\n",
    "mat = ax.matshow(grid)\n",
    "plt.show()\n"
   ]
  },
  {
   "cell_type": "markdown",
   "metadata": {},
   "source": [
    "- La composante `animation` de `matplotlib` permet de mettre à jour le graphique.\n",
    "- Il faut appeler la méthode `animation.FuncAnimation(fig, update, interval=50, save_count=50)`.\n",
    "  - update: fonction à définir qui retourne les nouvelles valeurs de la matrice.\n",
    "- ⚠: Les animations ne fonctionnent pas sur un navigateuer."
   ]
  },
  {
   "cell_type": "code",
   "execution_count": 1,
   "metadata": {},
   "outputs": [
    {
     "data": {
      "image/png": "[encoded data removed]",
      "text/plain": [
       "<Figure size 640x480 with 1 Axes>"
      ]
     },
     "metadata": {},
     "output_type": "display_data"
    }
   ],
   "source": [
    "import numpy as np\n",
    "import matplotlib.pyplot as plt\n",
    "import matplotlib.animation as animation\n",
    "\n",
    "N = 4\n",
    "p = 0.8\n",
    "vals = [False, True]\n",
    "grid = np.random.choice(vals, N*N, p=[1-p, p]).reshape(N, N)\n",
    "\n",
    "fig, ax = plt.subplots()\n",
    "mat = ax.matshow(grid)\n",
    "\n",
    "\n",
    "def update(frame):\n",
    "    grid = np.random.choice(vals, N*N, p=[1-p, p]).reshape(N, N)\n",
    "    mat.set_data(grid)\n",
    "    return [mat]\n",
    "\n",
    "\n",
    "ani = animation.FuncAnimation(fig, update, interval=100, save_count=50)\n",
    "plt.show()\n"
   ]
  }
 ],
 "metadata": {
  "kernelspec": {
   "display_name": "Python 3.10.0 64-bit",
   "language": "python",
   "name": "python3"
  },
  "language_info": {
   "codemirror_mode": {
    "name": "ipython",
    "version": 3
   },
   "file_extension": ".py",
   "mimetype": "text/x-python",
   "name": "python",
   "nbconvert_exporter": "python",
   "pygments_lexer": "ipython3",
   "version": "3.10.0"
  },
  "orig_nbformat": 4,
  "vscode": {
   "interpreter": {
    "hash": "811b60536634b595a3540a6f9dd24038cf6b6ef0618bff01fac9b0d724d62e11"
   }
  }
 },
 "nbformat": 4,
 "nbformat_minor": 2
}
