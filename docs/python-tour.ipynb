{
 "cells": [
  {
   "cell_type": "markdown",
   "metadata": {},
   "source": [
    "# Rappls de Python\n",
    "\n",
    "- Caractéritiques de Python: interprêté, typage dynamique, typage implicite, orienté objet, fortement typé\n",
    "- Typage dynamique: le type d'une variable peut changer dans le temps\n",
    "- Typage implicite: le type d'une variable esr inféré par l'interprêteur et le développeur n'a pas besoin de le préciser\n",
    "- Fortement typé: Les variables ont un type qui est pris en compte lors des opérations"
   ]
  },
  {
   "cell_type": "code",
   "execution_count": null,
   "metadata": {},
   "outputs": [],
   "source": [
    "cat = \"miaou\"\n",
    "print(cat)\n",
    "print(\"Hello\")\n",
    "print(len(cat))\n",
    "\n",
    "# \"toto\" + 4 échoue en python\n",
    "cat = \"toto\" + str(4)\n",
    "print(cat)\n",
    "print(4 + 1.5)"
   ]
  },
  {
   "cell_type": "code",
   "execution_count": null,
   "metadata": {},
   "outputs": [],
   "source": [
    "x = 4\n",
    "\n",
    "if x == 4:\n",
    "    print(\"vrai\")\n",
    "elif x == 6:\n",
    "    print(\"c'est égal à 6\")\n",
    "else:\n",
    "    print(\"faux\")\n",
    "\n",
    "annee = 2008\n",
    "typeAnnee = \"non bissextile\" if annee % 4 != 0 else \"bissextile\"\n",
    "print(typeAnnee)\n",
    "\n",
    "if x == 5:\n",
    "    pass\n",
    "else:\n",
    "    print(\"dans le else\")"
   ]
  },
  {
   "cell_type": "code",
   "execution_count": null,
   "metadata": {},
   "outputs": [],
   "source": [
    "# boucle while\n",
    "count = 0\n",
    "while count < 2:\n",
    "    print('The count is:', count)\n",
    "    count += 1"
   ]
  },
  {
   "cell_type": "code",
   "execution_count": null,
   "metadata": {},
   "outputs": [],
   "source": [
    "items = [42, 55]\n",
    "# For each\n",
    "for item in items:\n",
    "    print(item)\n",
    "\n",
    "# Parcours via les indices\n",
    "for i in range(len(items)):\n",
    "    print(i, \"->\", items[i])"
   ]
  },
  {
   "cell_type": "code",
   "execution_count": null,
   "metadata": {},
   "outputs": [],
   "source": [
    "# range permet de générer une liste itérable de nombres\n",
    "for i in range(4):\n",
    "    print(i)\n",
    "\n",
    "print(\"range avec intervalle (borne inf, borne sup, pas)\")\n",
    "for i in range(1, 3):\n",
    "    print(i)\n",
    "\n",
    "for i in range(1000, -48):\n",
    "    print(i)\n"
   ]
  },
  {
   "cell_type": "code",
   "execution_count": null,
   "metadata": {},
   "outputs": [],
   "source": [
    "# dictionnaire (map en java)\n",
    "lolCharacter = {\"name\": \"ashe\", \"hp\": 80, \"role\": \"adc\"}\n",
    "print(lolCharacter[\"name\"])\n",
    "lolCharacter[\"attack\"] = 10\n",
    "print(lolCharacter[\"attack\"])\n",
    "\n",
    "for k in lolCharacter:\n",
    "    print(k, \"->\", lolCharacter[k])\n",
    "\n",
    "for k, v in lolCharacter.items():\n",
    "    print(k, \"->\", v)"
   ]
  }
 ],
 "metadata": {
  "kernelspec": {
   "display_name": "Python 3.10.0 64-bit",
   "language": "python",
   "name": "python3"
  },
  "language_info": {
   "codemirror_mode": {
    "name": "ipython",
    "version": 3
   },
   "file_extension": ".py",
   "mimetype": "text/x-python",
   "name": "python",
   "nbconvert_exporter": "python",
   "pygments_lexer": "ipython3",
   "version": "3.10.0"
  },
  "orig_nbformat": 4,
  "vscode": {
   "interpreter": {
    "hash": "811b60536634b595a3540a6f9dd24038cf6b6ef0618bff01fac9b0d724d62e11"
   }
  }
 },
 "nbformat": 4,
 "nbformat_minor": 2
}
