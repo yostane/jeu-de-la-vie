{
 "cells": [
  {
   "cell_type": "markdown",
   "metadata": {},
   "source": [
    "# Rappls de Python\n",
    "\n",
    "Cette section fait un tour rapide du langage python.\n",
    "\n",
    "## Caractéritiques\n",
    "\n",
    "- Caractéritiques de Python: interprêté, typage dynamique, typage implicite, fortement typé, orienté objet et fonctionnel\n",
    "- Interprêté: le script est exécuté directement par un interprêteur sans le transformer préalablement en code machine. Exemple: JavaScript et PHP.\n",
    "- Typage dynamique: le type d'une variable peut changer dans le temps\n",
    "- Typage implicite: le type d'une variable esr inféré par l'interprêteur et le développeur n'a pas besoin de le préciser\n",
    "- Fortement typé: Les variables ont un type qui est pris en compte lors des opérations"
   ]
  },
  {
   "cell_type": "code",
   "execution_count": 6,
   "metadata": {},
   "outputs": [
    {
     "name": "stdout",
     "output_type": "stream",
     "text": [
      "miaou\n",
      "Hello\n",
      "5\n",
      "1 == \"1\" False\n",
      "1 == True True\n",
      "0 == False True\n",
      "2 == True -> False 2 == False -> False\n",
      "toto4\n",
      "5.5\n",
      "Soupe Pomme\n"
     ]
    }
   ],
   "source": [
    "cat = \"miaou\"\n",
    "print(cat)\n",
    "print(\"Hello\")\n",
    "print(len(cat))\n",
    "\n",
    "print('1 == \"1\"', 1 == \"1\")\n",
    "print('1 == True', 1 == True)\n",
    "print('0 == False', 0 == False)\n",
    "print('2 == True ->', 2 == True, '2 == False ->', 2 == False)\n",
    "x = 4\n",
    "#\"toto\" + x # échoue en python\n",
    "cat = \"toto\" + str(x)\n",
    "print(cat)\n",
    "print(4 + 1.5)\n",
    "# On peut assigner deux variables à la fois\n",
    "plat, desset = \"Soupe\", \"Pomme\"\n",
    "print(plat, desset)"
   ]
  },
  {
   "cell_type": "code",
   "execution_count": 11,
   "metadata": {},
   "outputs": [
    {
     "name": "stdout",
     "output_type": "stream",
     "text": [
      "a: 10. Fin du texte\n"
     ]
    }
   ],
   "source": [
    "# Chaîne de caractères interpolée\n",
    "a = 10\n",
    "text = f\"a: {a}. Fin du texte\"\n",
    "print(text)"
   ]
  },
  {
   "cell_type": "markdown",
   "metadata": {},
   "source": [
    "## Fonctions"
   ]
  },
  {
   "cell_type": "code",
   "execution_count": 1,
   "metadata": {},
   "outputs": [
    {
     "name": "stdout",
     "output_type": "stream",
     "text": [
      "11\n",
      "14 40\n"
     ]
    }
   ],
   "source": [
    "def add(x, y):\n",
    "  return x + y\n",
    "\n",
    "# Appel de fonction\n",
    "print(add(5, 6))\n",
    "\n",
    "def add_and_mutiply(x, y):\n",
    "  return x + y, x * y\n",
    "\n",
    "a, b = add_and_mutiply(10, 4)\n",
    "print(a, b)"
   ]
  },
  {
   "cell_type": "markdown",
   "metadata": {},
   "source": [
    "- Python supporte la programmation fonctionnelle.\n",
    "- Fonction comme élément de première classe: les fonctions peuvent être manipulées comme des varaibles. C'est-à-dire qu'on peut assigner une fonction à une variable ou un argument. \n",
    "- On peut définir des fonction anonymes qu'on appelle des lambdas. On peut directement les assigner à une variable ou un argument."
   ]
  },
  {
   "cell_type": "code",
   "execution_count": 6,
   "metadata": {},
   "outputs": [
    {
     "name": "stdout",
     "output_type": "stream",
     "text": [
      "11\n",
      "9\n"
     ]
    }
   ],
   "source": [
    "g = add\n",
    "print(g(10, -1))\n",
    "\n",
    "def compute(f):\n",
    "  x = f(0, -1)\n",
    "  return f(x, -7)\n",
    "\n",
    "print(compute(add))\n",
    "print(compute(g))\n",
    "print(compute(lambda a, b: a - b))\n",
    "lam = lambda u, v: u - v\n",
    "print(compute(lam))"
   ]
  },
  {
   "cell_type": "markdown",
   "metadata": {},
   "source": [
    "## Structure de contrôle\n",
    "\n",
    "- Instruction: ligne de code\n",
    "- Expression tout ce qui a une valeur. Exemples d'expression: \n",
    "  - 2\n",
    "  - 2 % 10\n",
    "  - x + 7\n",
    "  - add(3, 5)\n",
    "  - selon les langages, l'affectation est une expression: 3 + (x = 6) . Ce n'est pas le cas en Python à priori.\n",
    "  - print -> None"
   ]
  },
  {
   "cell_type": "code",
   "execution_count": 13,
   "metadata": {},
   "outputs": [
    {
     "name": "stdout",
     "output_type": "stream",
     "text": [
      "2\n",
      "None\n",
      "20\n",
      "None\n"
     ]
    }
   ],
   "source": [
    "res = print(2)\n",
    "print(res)\n",
    "print(print(2 * 10))\n"
   ]
  },
  {
   "cell_type": "code",
   "execution_count": 14,
   "metadata": {},
   "outputs": [
    {
     "name": "stdout",
     "output_type": "stream",
     "text": [
      "vrai\n",
      "bissextile\n",
      "dans le else\n"
     ]
    }
   ],
   "source": [
    "x = 4\n",
    "\n",
    "if x == 4:\n",
    "    print(\"vrai\")\n",
    "elif x == 6:\n",
    "    print(\"c'est égal à 6\")\n",
    "else:\n",
    "    print(\"faux\")\n",
    "\n",
    "annee = 2008\n",
    "typeAnnee = \"non bissextile\" if annee % 4 != 0 else \"bissextile\"\n",
    "print(typeAnnee)\n",
    "\n",
    "if x == 5:\n",
    "    pass\n",
    "else:\n",
    "    print(\"dans le else\")"
   ]
  },
  {
   "cell_type": "code",
   "execution_count": 15,
   "metadata": {},
   "outputs": [
    {
     "name": "stdout",
     "output_type": "stream",
     "text": [
      "The count is: 0\n",
      "The count is: 1\n"
     ]
    }
   ],
   "source": [
    "# boucle while\n",
    "count = 0\n",
    "while count < 2:\n",
    "    print('The count is:', count)\n",
    "    count += 1"
   ]
  },
  {
   "cell_type": "code",
   "execution_count": 4,
   "metadata": {},
   "outputs": [
    {
     "name": "stdout",
     "output_type": "stream",
     "text": [
      "preums et deus 42 55\n",
      "42\n",
      "55\n",
      "0 -> 42\n",
      "1 -> 55\n"
     ]
    }
   ],
   "source": [
    "items = [42, 55]\n",
    "\n",
    "preums, deus = items\n",
    "print(\"preums et deus\", preums, deus)\n",
    "\n",
    "# For each\n",
    "for item in items:\n",
    "    print(item)\n",
    "\n",
    "# Parcours via les indices\n",
    "# range retourne une séquence (ou suite) d'entiers qui commence à 0\n",
    "for i in range(len(items)):\n",
    "    print(i, \"->\", items[i])"
   ]
  },
  {
   "cell_type": "code",
   "execution_count": 17,
   "metadata": {},
   "outputs": [
    {
     "name": "stdout",
     "output_type": "stream",
     "text": [
      "0\n",
      "1\n",
      "2\n",
      "3\n",
      "range avec intervalle (borne inf, borne sup, pas)\n",
      "1\n",
      "2\n"
     ]
    }
   ],
   "source": [
    "# range permet de générer une liste itérable de nombres\n",
    "for i in range(4):\n",
    "    print(i)\n",
    "\n",
    "print(\"range avec intervalle (borne inf, borne sup, pas)\")\n",
    "for i in range(1, 3):\n",
    "    print(i)\n",
    "\n",
    "for i in range(1000, -48):\n",
    "    print(i)\n"
   ]
  },
  {
   "cell_type": "markdown",
   "metadata": {},
   "source": [
    "## Collections\n",
    "\n",
    "- Une collection est une structure de données qui permet de gérer un ensemble d'éléments\n",
    "- Python propose trois collections célèbres parmi d'autres: listes, dictionnaires et ensembles\n",
    "- Des méthodes et fonctions communes sont disponibles comme `len`, `append`, `pop` et `push`."
   ]
  },
  {
   "cell_type": "code",
   "execution_count": 20,
   "metadata": {},
   "outputs": [
    {
     "name": "stdout",
     "output_type": "stream",
     "text": [
      "[\"J'aime\", 'le', 'langage', 'Python'] - item count:  4\n",
      "after append [\"J'aime\", 'le', 'langage', 'Python', '2022']\n",
      "after pop 2022 [\"J'aime\", 'le', 'langage', 'Python']\n",
      "messages[1]-> le - messages[-1]-> Python\n",
      "messages[0:2]-> [\"J'aime\", 'le'] - (copie) messages[:]-> [\"J'aime\", 'le', 'langage', 'Python']\n",
      "onjo\n"
     ]
    }
   ],
   "source": [
    "# listes: eléments ordonnées identifés par leur indice\n",
    "messages = [\"J'aime\", \"le\", \"langage\", \"Python\"]\n",
    "print(messages, \"- item count: \", len(messages))\n",
    "messages.append(\"2022\")\n",
    "print(\"after append\", messages)\n",
    "last_message = messages.pop()\n",
    "print(\"after pop\", last_message, messages)\n",
    "print(\"messages[1]->\", messages[1], \"- messages[-1]->\", messages[-1])\n",
    "print(\"messages[0:2]->\", messages[0:2], \"- (copie) messages[:]->\", messages[:])\n",
    "\n",
    "message = \"Bonjour\"\n",
    "print(message[1:5])\n"
   ]
  },
  {
   "cell_type": "code",
   "execution_count": null,
   "metadata": {},
   "outputs": [],
   "source": [
    "# dictionnaire (map en java): collection de valeurs identifiées par des clés\n",
    "lol_character = {\"name\": \"ashe\", \"hp\": 80, \"role\": \"adc\", 2: \"Hello\"}\n",
    "print(lol_character[\"name\"], \". len(lol_character)\", len(lol_character))\n",
    "lol_character[\"attack\"] = 10\n",
    "print(lol_character[\"attack\"])\n",
    "\n",
    "for k in lol_character:\n",
    "    print(k, \"->\", lol_character[k])\n",
    "\n",
    "for k, v in lol_character.items():\n",
    "    print(k, \"->\", v)"
   ]
  },
  {
   "cell_type": "code",
   "execution_count": 9,
   "metadata": {},
   "outputs": [
    {
     "name": "stdout",
     "output_type": "stream",
     "text": [
      "{'Mega Drive', 'Super Nintendo'} len 2\n",
      "After add Mega Drive {'Mega Drive', 'Super Nintendo'}\n",
      "After add PSP {'Mega Drive', 'PSP', 'Super Nintendo'}\n",
      "New set after union {'Mega Drive', 'Nintendo', 'PSP', 'Super Nintendo'}\n",
      "True\n",
      "False\n"
     ]
    }
   ],
   "source": [
    "# set: ensemble de valeurs uniques non ordonnées\n",
    "consoles = {\"Super Nintendo\", \"Mega Drive\"}\n",
    "print(consoles, \"len\", len(consoles))\n",
    "consoles.add(\"Mega Drive\")\n",
    "print(\"After add Mega Drive\", consoles)\n",
    "consoles.add(\"PSP\")\n",
    "print(\"After add PSP\", consoles)\n",
    "print(\"New set after union\", consoles.union({\"Nintendo\", \"Super Nintendo\"}))\n",
    "print(\"Mega Drive\" in consoles)\n",
    "print(\"Game Gear\" in consoles)"
   ]
  }
 ],
 "metadata": {
  "kernelspec": {
   "display_name": "Python 3.11.0 64-bit",
   "language": "python",
   "name": "python3"
  },
  "language_info": {
   "codemirror_mode": {
    "name": "ipython",
    "version": 3
   },
   "file_extension": ".py",
   "mimetype": "text/x-python",
   "name": "python",
   "nbconvert_exporter": "python",
   "pygments_lexer": "ipython3",
   "version": "3.11.0"
  },
  "orig_nbformat": 4,
  "vscode": {
   "interpreter": {
    "hash": "12d34147660ad040bf29c06cb999f9351a730cb5c0cc3b5a8b9359c52ff63857"
   }
  }
 },
 "nbformat": 4,
 "nbformat_minor": 2
}
