{
 "cells": [
  {
   "cell_type": "markdown",
   "metadata": {},
   "source": [
    "# Rappls de Python\n",
    "\n",
    "Cette section fait un tour rapide du langage python.\n",
    "\n",
    "## Caractéritiques\n",
    "\n",
    "- Caractéritiques de Python: interprêté, typage dynamique, typage implicite, fortement typé, orienté objet et fonctionnel\n",
    "- Typage dynamique: le type d'une variable peut changer dans le temps\n",
    "- Typage implicite: le type d'une variable esr inféré par l'interprêteur et le développeur n'a pas besoin de le préciser\n",
    "- Fortement typé: Les variables ont un type qui est pris en compte lors des opérations"
   ]
  },
  {
   "cell_type": "code",
   "execution_count": 8,
   "metadata": {},
   "outputs": [
    {
     "name": "stdout",
     "output_type": "stream",
     "text": [
      "miaou\n",
      "Hello\n",
      "5\n",
      "toto4\n",
      "5.5\n",
      "Soupe Pomme\n"
     ]
    }
   ],
   "source": [
    "cat = \"miaou\"\n",
    "print(cat)\n",
    "print(\"Hello\")\n",
    "print(len(cat))\n",
    "\n",
    "# \"toto\" + 4 échoue en python\n",
    "cat = \"toto\" + str(4)\n",
    "print(cat)\n",
    "print(4 + 1.5)\n",
    "# On peut assigner deux variables à la fois\n",
    "plat, desset = \"Soupe\", \"Pomme\"\n",
    "print(plat, desset)"
   ]
  },
  {
   "cell_type": "markdown",
   "metadata": {},
   "source": [
    "## Fonctions"
   ]
  },
  {
   "cell_type": "code",
   "execution_count": 5,
   "metadata": {},
   "outputs": [
    {
     "name": "stdout",
     "output_type": "stream",
     "text": [
      "11\n",
      "9\n"
     ]
    }
   ],
   "source": [
    "def add(x, y):\n",
    "  return x + y\n",
    "\n",
    "# Appel de fonction\n",
    "print(add(5, 6))"
   ]
  },
  {
   "cell_type": "markdown",
   "metadata": {},
   "source": [
    "- Python permet d'assigner une fonction à une variable ou un argument. C'est une fonctionnalité importante pour la programmation fonctionnelle"
   ]
  },
  {
   "cell_type": "code",
   "execution_count": 6,
   "metadata": {},
   "outputs": [
    {
     "name": "stdout",
     "output_type": "stream",
     "text": [
      "11\n",
      "9\n"
     ]
    }
   ],
   "source": [
    "f = add\n",
    "print(f(10, -1))"
   ]
  },
  {
   "cell_type": "markdown",
   "metadata": {},
   "source": [
    "## Structure de contrôle"
   ]
  },
  {
   "cell_type": "code",
   "execution_count": null,
   "metadata": {},
   "outputs": [],
   "source": [
    "x = 4\n",
    "\n",
    "if x == 4:\n",
    "    print(\"vrai\")\n",
    "elif x == 6:\n",
    "    print(\"c'est égal à 6\")\n",
    "else:\n",
    "    print(\"faux\")\n",
    "\n",
    "annee = 2008\n",
    "typeAnnee = \"non bissextile\" if annee % 4 != 0 else \"bissextile\"\n",
    "print(typeAnnee)\n",
    "\n",
    "if x == 5:\n",
    "    pass\n",
    "else:\n",
    "    print(\"dans le else\")"
   ]
  },
  {
   "cell_type": "code",
   "execution_count": null,
   "metadata": {},
   "outputs": [],
   "source": [
    "# boucle while\n",
    "count = 0\n",
    "while count < 2:\n",
    "    print('The count is:', count)\n",
    "    count += 1"
   ]
  },
  {
   "cell_type": "code",
   "execution_count": null,
   "metadata": {},
   "outputs": [],
   "source": [
    "items = [42, 55]\n",
    "# For each\n",
    "for item in items:\n",
    "    print(item)\n",
    "\n",
    "# Parcours via les indices\n",
    "for i in range(len(items)):\n",
    "    print(i, \"->\", items[i])"
   ]
  },
  {
   "cell_type": "code",
   "execution_count": null,
   "metadata": {},
   "outputs": [],
   "source": [
    "# range permet de générer une liste itérable de nombres\n",
    "for i in range(4):\n",
    "    print(i)\n",
    "\n",
    "print(\"range avec intervalle (borne inf, borne sup, pas)\")\n",
    "for i in range(1, 3):\n",
    "    print(i)\n",
    "\n",
    "for i in range(1000, -48):\n",
    "    print(i)\n"
   ]
  },
  {
   "cell_type": "markdown",
   "metadata": {},
   "source": [
    "## Collections\n",
    "\n",
    "- Une collection est une structure de données qui permet de géréer un ensemble d'éléments\n",
    "- Python propose trois collections célèbres parmi d'autres: listes, dictionnaires et ensembles\n",
    "- Des méthodes et fonctions communes sont disponibles comme len, append, pop et push."
   ]
  },
  {
   "cell_type": "code",
   "execution_count": 3,
   "metadata": {},
   "outputs": [
    {
     "name": "stdout",
     "output_type": "stream",
     "text": [
      "[\"J'aime\", 'le', 'langage', 'Python']\n",
      "after append [\"J'aime\", 'le', 'langage', 'Python', '2022']\n",
      "after pop 2022 [\"J'aime\", 'le', 'langage', 'Python']\n",
      "messages[1]: le . messages[-1]: Python . messages[0:2]: [\"J'aime\", 'le']\n"
     ]
    }
   ],
   "source": [
    "# listes: eléments ordonnées\n",
    "messages = [\"J'aime\", \"le\", \"langage\", \"Python\"]\n",
    "print(messages, \"- item count: \", len(messages))\n",
    "messages.append(\"2022\")\n",
    "print(\"after append\", messages)\n",
    "last_message = messages.pop()\n",
    "print(\"after pop\", last_message, messages)\n",
    "print(\"messages[1]->\", messages[1], \"- messages[-1]->\", messages[-1])\n",
    "print(\"- messages[0:2]->\", messages[0:2], \"- (copie) messages[:]->\", messages[:])\n"
   ]
  },
  {
   "cell_type": "code",
   "execution_count": null,
   "metadata": {},
   "outputs": [],
   "source": [
    "# dictionnaire (map en java): collection de valeurs identifiées par des clés\n",
    "lolCharacter = {\"name\": \"ashe\", \"hp\": 80, \"role\": \"adc\"}\n",
    "print(lolCharacter[\"name\"], \". len(lolCharacter)\", len(lolCharacter))\n",
    "lolCharacter[\"attack\"] = 10\n",
    "print(lolCharacter[\"attack\"])\n",
    "\n",
    "for k in lolCharacter:\n",
    "    print(k, \"->\", lolCharacter[k])\n",
    "\n",
    "for k, v in lolCharacter.items():\n",
    "    print(k, \"->\", v)"
   ]
  },
  {
   "cell_type": "code",
   "execution_count": 4,
   "metadata": {},
   "outputs": [
    {
     "name": "stdout",
     "output_type": "stream",
     "text": [
      "{'Mega Drive', 'Super Nintendo'}\n",
      "After add Mega Drive {'Mega Drive', 'Super Nintendo'}\n"
     ]
    }
   ],
   "source": [
    "# set: ensemble de valeurs uniques non ordonnées\n",
    "consoles = {\"Super Nintendo\", \"Mega Drive\"}\n",
    "print(consoles, \"len\", len(consoles))\n",
    "consoles.add(\"Mega Drive\")\n",
    "print(\"After add Mega Drive\", consoles)\n",
    "print(\"New set after union\", consoles.union({\"Nintendo\", \"Super Nintendo\"}))"
   ]
  }
 ],
 "metadata": {
  "kernelspec": {
   "display_name": "Python 3.10.0 64-bit",
   "language": "python",
   "name": "python3"
  },
  "language_info": {
   "codemirror_mode": {
    "name": "ipython",
    "version": 3
   },
   "file_extension": ".py",
   "mimetype": "text/x-python",
   "name": "python",
   "nbconvert_exporter": "python",
   "pygments_lexer": "ipython3",
   "version": "3.10.0"
  },
  "orig_nbformat": 4,
  "vscode": {
   "interpreter": {
    "hash": "811b60536634b595a3540a6f9dd24038cf6b6ef0618bff01fac9b0d724d62e11"
   }
  }
 },
 "nbformat": 4,
 "nbformat_minor": 2
}
