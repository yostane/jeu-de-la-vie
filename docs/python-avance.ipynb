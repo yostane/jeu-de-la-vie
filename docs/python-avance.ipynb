{
 "cells": [
  {
   "cell_type": "markdown",
   "metadata": {},
   "source": [
    "# Fonctionnalités avancées\n",
    "\n",
    "## Génération d'une liste avec la compréhension de liste\n",
    "\n",
    "- Permet de créer des listes à partir d'un itérateur\n",
    "- Un itérateur est tout ce qui peut être parcouru dans un **for-each**\n",
    "- Syntaxe 1: **[** 'valeur de l'élélemnt' **for**  'varialbe de parcrous' **in** itérateur **]**\n",
    "- Syntaxe 2: **[** 'valeur de l'élélemnt' **for**  'varialbe de parcrous' **in** itérateur **if** condition **]**"
   ]
  },
  {
   "cell_type": "code",
   "execution_count": 1,
   "metadata": {},
   "outputs": [
    {
     "name": "stdout",
     "output_type": "stream",
     "text": [
      "[0 for x in range(8)] [0, 0, 0, 0, 0, 0, 0, 0]\n",
      "avec un for [0, 0, 0, 0, 0, 0, 0, 0]\n",
      "[x for x in range(4)] -> [0, 1, 2, 3]\n",
      "[x * 2 for x in range(4)] -> [0, 2, 4, 6]\n",
      "[x for x in range(4) if x % 2 == 0] -> [0, 2]\n",
      "[x + 2 for x in range(4) if x % 2 == 0] -> [2, 4]\n",
      "['I', 'love', 'python']\n",
      "[len(x) for x in items] -> [1, 4, 6]\n",
      "[x[2:] for x in items] -> ['', 've', 'thon']\n",
      "[x[2:] for x in items if len(x) > 2] -> ['ve', 'thon']\n"
     ]
    }
   ],
   "source": [
    "numbers = [0 for x in range(8)]\n",
    "print(\"[0 for x in range(8)]\", numbers)\n",
    "numbers = []\n",
    "for x in range(8):\n",
    "    numbers.append(0)\n",
    "print(\"avec un for\", numbers)\n",
    "print(\"[x for x in range(4)] ->\", [x for x in range(4)])\n",
    "print(\"[x * 2 for x in range(4)] ->\", [x * 2 for x in range(4)])\n",
    "print(\"[x for x in range(4) if x % 2 == 0] ->\",\n",
    "      [x for x in range(4) if x % 2 == 0])\n",
    "print(\"[x + 2 for x in range(4) if x % 2 == 0] ->\",\n",
    "      [x + 2 for x in range(4) if x % 2 == 0])\n",
    "\n",
    "items = [\"I\", \"love\", \"python\"]\n",
    "print(items)\n",
    "print(\"[len(x) for x in items] ->\", [len(x) for x in items])\n",
    "print(\"[x[2:] for x in items] ->\", [x[2:]\n",
    "      for x in items])\n",
    "print(\"[x[2:] for x in items if len(x) > 2] ->\", [x[2:]\n",
    "      for x in items if len(x) > 2])\n"
   ]
  },
  {
   "cell_type": "markdown",
   "metadata": {},
   "source": [
    "## Listes à deux dimensions\n",
    "\n",
    "- Elles sont vues comme des listes dont chaque élément est une autre list\n",
    "- Il n'est pas nécessaire que les sous-listes aisent le même nombre d'éléments"
   ]
  },
  {
   "cell_type": "code",
   "execution_count": 15,
   "metadata": {},
   "outputs": [
    {
     "name": "stdout",
     "output_type": "stream",
     "text": [
      "t -> [[11, 12, 5, 2], [15, 6]] - t[0] -> [11, 12, 5, 2] - t[0][1] -> 12\n",
      "ligne: [11, 12, 5, 2]\n",
      "ligne: [15, 6]\n",
      "len(t): 2\n",
      "i -> 0 - t[i] -> [11, 12, 5, 2]\n",
      "i -> 1 - t[i] -> [15, 6]\n"
     ]
    }
   ],
   "source": [
    "t = [[11, 12, 5, 2], [15, 6]]\n",
    "print(\"t ->\", t, \"- t[0] ->\", t[0], \"- t[0][1] ->\", t[0][1])\n",
    "\n",
    "for ligne in t:\n",
    "  print(\"ligne:\", ligne)\n",
    "\n",
    "print(\"len(t):\", len(t))\n",
    "for i in range(len(t)):\n",
    "  print(\"i ->\", i, \"- t[i] ->\", t[i])\n"
   ]
  },
  {
   "cell_type": "markdown",
   "metadata": {},
   "source": [
    "- Si toutes les sous-listes ont le même nombre d'éléments, on aura alors une matrice\n",
    "  - Le nombre de lignes: est le nombre d'éléments de la liste mère\n",
    "  - Le nombre de colonnes: est le nombre d'éléments des sous-listes"
   ]
  },
  {
   "cell_type": "code",
   "execution_count": 4,
   "metadata": {},
   "outputs": [
    {
     "name": "stdout",
     "output_type": "stream",
     "text": [
      "[[11, 12, 5], [6, -5, 22]]\n",
      "Nombre de ligne de la matrices -> 2\n",
      "Nombre de colonnes de la matrices -> 3\n",
      "La matrice a 2 ligne et 3 colonnes\n"
     ]
    },
    {
     "data": {
      "text/html": [
       "<div>\n",
       "<style scoped>\n",
       "    .dataframe tbody tr th:only-of-type {\n",
       "        vertical-align: middle;\n",
       "    }\n",
       "\n",
       "    .dataframe tbody tr th {\n",
       "        vertical-align: top;\n",
       "    }\n",
       "\n",
       "    .dataframe thead th {\n",
       "        text-align: right;\n",
       "    }\n",
       "</style>\n",
       "<table border=\"1\" class=\"dataframe\">\n",
       "  <thead>\n",
       "    <tr style=\"text-align: right;\">\n",
       "      <th></th>\n",
       "      <th>0</th>\n",
       "      <th>1</th>\n",
       "      <th>2</th>\n",
       "    </tr>\n",
       "  </thead>\n",
       "  <tbody>\n",
       "    <tr>\n",
       "      <th>0</th>\n",
       "      <td>11</td>\n",
       "      <td>12</td>\n",
       "      <td>5</td>\n",
       "    </tr>\n",
       "    <tr>\n",
       "      <th>1</th>\n",
       "      <td>6</td>\n",
       "      <td>-5</td>\n",
       "      <td>22</td>\n",
       "    </tr>\n",
       "  </tbody>\n",
       "</table>\n",
       "</div>"
      ],
      "text/plain": [
       "    0   1   2\n",
       "0  11  12   5\n",
       "1   6  -5  22"
      ]
     },
     "execution_count": 4,
     "metadata": {},
     "output_type": "execute_result"
    }
   ],
   "source": [
    "m = [[11, 12, 5], [6, -5, 22]]\n",
    "print(m)\n",
    "print(\"Nombre de ligne de la matrices ->\", len(m))\n",
    "print(\"Nombre de colonnes de la matrices ->\", len(m[0]))\n",
    "\n",
    "l, c = len(m), len(m[0])\n",
    "print(\"La matrice a\", l, \"ligne et\", c, \"colonnes\")\n",
    "\n",
    "# Installer avec un: pip install pandas\n",
    "import pandas as pd\n",
    "pd.DataFrame(m)"
   ]
  },
  {
   "cell_type": "markdown",
   "metadata": {},
   "source": [
    "- On peut parcourir un tableau à deux dimensions avec deux boucles for imbriquées"
   ]
  },
  {
   "cell_type": "code",
   "execution_count": 5,
   "metadata": {},
   "outputs": [
    {
     "name": "stdout",
     "output_type": "stream",
     "text": [
      "ligne courante [11, 12, 5]\n",
      "element 11\n",
      "element 12\n",
      "element 5\n",
      "ligne courante [6, -5, 22]\n",
      "element 6\n",
      "element -5\n",
      "element 22\n"
     ]
    }
   ],
   "source": [
    "for ligne in m:\n",
    "  print(\"ligne courante\", ligne)\n",
    "  for j in ligne:\n",
    "    print(\"element\", j)"
   ]
  },
  {
   "cell_type": "code",
   "execution_count": 7,
   "metadata": {},
   "outputs": [
    {
     "name": "stdout",
     "output_type": "stream",
     "text": [
      "i: 0 - t[i]: [11, 12, 5]\n",
      "i -> 0 - j -> 0 - t[i][j] -> 11\n",
      "i -> 0 - j -> 1 - t[i][j] -> 12\n",
      "i -> 0 - j -> 2 - t[i][j] -> 5\n",
      "i: 1 - t[i]: [6, -5, 22]\n",
      "i -> 1 - j -> 0 - t[i][j] -> 6\n",
      "i -> 1 - j -> 1 - t[i][j] -> -5\n",
      "i -> 1 - j -> 2 - t[i][j] -> 22\n"
     ]
    }
   ],
   "source": [
    "for i in range(len(m)):\n",
    "  print(\"i:\", i, \"- t[i]:\", m[i])\n",
    "  for j in range(len(m[i])):\n",
    "      print(\"i ->\", i, \"- j ->\", j, \"- t[i][j] ->\", m[i][j])"
   ]
  },
  {
   "cell_type": "markdown",
   "metadata": {},
   "source": [
    "## Génération d'une matrice (liste à deux dimensions)\n",
    "\n",
    "- Nous savons que la compéhension de liste permet de générer une liste à partir d'un itérateur: \n",
    "  - **[** 'valeur de l'élélement' **for**  'varialbe de parcrous' **in** itérateur **if** condition **]**\n",
    "- Que se passerait-t-il si on mettait dans 'valeur de l'élélemnt' une liste ?\n",
    "- Que se passerait-t-il si on mettait dans 'valeur de l'élélemnt' une compréhension de liste ?"
   ]
  },
  {
   "cell_type": "code",
   "execution_count": 5,
   "metadata": {},
   "outputs": [
    {
     "data": {
      "text/html": [
       "<div>\n",
       "<style scoped>\n",
       "    .dataframe tbody tr th:only-of-type {\n",
       "        vertical-align: middle;\n",
       "    }\n",
       "\n",
       "    .dataframe tbody tr th {\n",
       "        vertical-align: top;\n",
       "    }\n",
       "\n",
       "    .dataframe thead th {\n",
       "        text-align: right;\n",
       "    }\n",
       "</style>\n",
       "<table border=\"1\" class=\"dataframe\">\n",
       "  <thead>\n",
       "    <tr style=\"text-align: right;\">\n",
       "      <th></th>\n",
       "      <th>0</th>\n",
       "      <th>1</th>\n",
       "      <th>2</th>\n",
       "    </tr>\n",
       "  </thead>\n",
       "  <tbody>\n",
       "    <tr>\n",
       "      <th>0</th>\n",
       "      <td>0</td>\n",
       "      <td>1</td>\n",
       "      <td>2</td>\n",
       "    </tr>\n",
       "    <tr>\n",
       "      <th>1</th>\n",
       "      <td>0</td>\n",
       "      <td>1</td>\n",
       "      <td>2</td>\n",
       "    </tr>\n",
       "    <tr>\n",
       "      <th>2</th>\n",
       "      <td>0</td>\n",
       "      <td>1</td>\n",
       "      <td>2</td>\n",
       "    </tr>\n",
       "    <tr>\n",
       "      <th>3</th>\n",
       "      <td>0</td>\n",
       "      <td>1</td>\n",
       "      <td>2</td>\n",
       "    </tr>\n",
       "  </tbody>\n",
       "</table>\n",
       "</div>"
      ],
      "text/plain": [
       "   0  1  2\n",
       "0  0  1  2\n",
       "1  0  1  2\n",
       "2  0  1  2\n",
       "3  0  1  2"
      ]
     },
     "execution_count": 5,
     "metadata": {},
     "output_type": "execute_result"
    }
   ],
   "source": [
    "import pandas as pd\n",
    "l = [[0, 1, 2] for x in range(4)]\n",
    "pd.DataFrame(l)"
   ]
  },
  {
   "cell_type": "code",
   "execution_count": 7,
   "metadata": {},
   "outputs": [
    {
     "data": {
      "text/html": [
       "<div>\n",
       "<style scoped>\n",
       "    .dataframe tbody tr th:only-of-type {\n",
       "        vertical-align: middle;\n",
       "    }\n",
       "\n",
       "    .dataframe tbody tr th {\n",
       "        vertical-align: top;\n",
       "    }\n",
       "\n",
       "    .dataframe thead th {\n",
       "        text-align: right;\n",
       "    }\n",
       "</style>\n",
       "<table border=\"1\" class=\"dataframe\">\n",
       "  <thead>\n",
       "    <tr style=\"text-align: right;\">\n",
       "      <th></th>\n",
       "      <th>0</th>\n",
       "      <th>1</th>\n",
       "      <th>2</th>\n",
       "      <th>3</th>\n",
       "    </tr>\n",
       "  </thead>\n",
       "  <tbody>\n",
       "    <tr>\n",
       "      <th>0</th>\n",
       "      <td>1</td>\n",
       "      <td>0</td>\n",
       "      <td>0</td>\n",
       "      <td>0</td>\n",
       "    </tr>\n",
       "    <tr>\n",
       "      <th>1</th>\n",
       "      <td>2</td>\n",
       "      <td>0</td>\n",
       "      <td>2</td>\n",
       "      <td>1</td>\n",
       "    </tr>\n",
       "  </tbody>\n",
       "</table>\n",
       "</div>"
      ],
      "text/plain": [
       "   0  1  2  3\n",
       "0  1  0  0  0\n",
       "1  2  0  2  1"
      ]
     },
     "execution_count": 7,
     "metadata": {},
     "output_type": "execute_result"
    }
   ],
   "source": [
    "pd.DataFrame([[x + 1, 0, x * 2, x ** 2] for x in range(2)])"
   ]
  },
  {
   "cell_type": "code",
   "execution_count": 9,
   "metadata": {},
   "outputs": [
    {
     "data": {
      "text/html": [
       "<div>\n",
       "<style scoped>\n",
       "    .dataframe tbody tr th:only-of-type {\n",
       "        vertical-align: middle;\n",
       "    }\n",
       "\n",
       "    .dataframe tbody tr th {\n",
       "        vertical-align: top;\n",
       "    }\n",
       "\n",
       "    .dataframe thead th {\n",
       "        text-align: right;\n",
       "    }\n",
       "</style>\n",
       "<table border=\"1\" class=\"dataframe\">\n",
       "  <thead>\n",
       "    <tr style=\"text-align: right;\">\n",
       "      <th></th>\n",
       "      <th>0</th>\n",
       "      <th>1</th>\n",
       "      <th>2</th>\n",
       "      <th>3</th>\n",
       "      <th>4</th>\n",
       "      <th>5</th>\n",
       "      <th>6</th>\n",
       "      <th>7</th>\n",
       "      <th>8</th>\n",
       "      <th>9</th>\n",
       "    </tr>\n",
       "  </thead>\n",
       "  <tbody>\n",
       "    <tr>\n",
       "      <th>0</th>\n",
       "      <td>0</td>\n",
       "      <td>0</td>\n",
       "      <td>0</td>\n",
       "      <td>0</td>\n",
       "      <td>0</td>\n",
       "      <td>0</td>\n",
       "      <td>0</td>\n",
       "      <td>0</td>\n",
       "      <td>0</td>\n",
       "      <td>0</td>\n",
       "    </tr>\n",
       "    <tr>\n",
       "      <th>1</th>\n",
       "      <td>0</td>\n",
       "      <td>0</td>\n",
       "      <td>0</td>\n",
       "      <td>0</td>\n",
       "      <td>0</td>\n",
       "      <td>0</td>\n",
       "      <td>0</td>\n",
       "      <td>0</td>\n",
       "      <td>0</td>\n",
       "      <td>0</td>\n",
       "    </tr>\n",
       "  </tbody>\n",
       "</table>\n",
       "</div>"
      ],
      "text/plain": [
       "   0  1  2  3  4  5  6  7  8  9\n",
       "0  0  0  0  0  0  0  0  0  0  0\n",
       "1  0  0  0  0  0  0  0  0  0  0"
      ]
     },
     "execution_count": 9,
     "metadata": {},
     "output_type": "execute_result"
    }
   ],
   "source": [
    "l = [[0 for y in range(10)] for x in range(2)]\n",
    "pd.DataFrame(l)"
   ]
  },
  {
   "cell_type": "code",
   "execution_count": 14,
   "metadata": {},
   "outputs": [
    {
     "data": {
      "text/html": [
       "<div>\n",
       "<style scoped>\n",
       "    .dataframe tbody tr th:only-of-type {\n",
       "        vertical-align: middle;\n",
       "    }\n",
       "\n",
       "    .dataframe tbody tr th {\n",
       "        vertical-align: top;\n",
       "    }\n",
       "\n",
       "    .dataframe thead th {\n",
       "        text-align: right;\n",
       "    }\n",
       "</style>\n",
       "<table border=\"1\" class=\"dataframe\">\n",
       "  <thead>\n",
       "    <tr style=\"text-align: right;\">\n",
       "      <th></th>\n",
       "      <th>0</th>\n",
       "      <th>1</th>\n",
       "      <th>2</th>\n",
       "      <th>3</th>\n",
       "      <th>4</th>\n",
       "      <th>5</th>\n",
       "      <th>6</th>\n",
       "      <th>7</th>\n",
       "      <th>8</th>\n",
       "      <th>9</th>\n",
       "    </tr>\n",
       "  </thead>\n",
       "  <tbody>\n",
       "    <tr>\n",
       "      <th>0</th>\n",
       "      <td>0</td>\n",
       "      <td>1</td>\n",
       "      <td>2</td>\n",
       "      <td>3</td>\n",
       "      <td>4</td>\n",
       "      <td>5</td>\n",
       "      <td>6</td>\n",
       "      <td>7</td>\n",
       "      <td>8</td>\n",
       "      <td>9</td>\n",
       "    </tr>\n",
       "    <tr>\n",
       "      <th>1</th>\n",
       "      <td>0</td>\n",
       "      <td>1</td>\n",
       "      <td>2</td>\n",
       "      <td>3</td>\n",
       "      <td>4</td>\n",
       "      <td>5</td>\n",
       "      <td>6</td>\n",
       "      <td>7</td>\n",
       "      <td>8</td>\n",
       "      <td>9</td>\n",
       "    </tr>\n",
       "  </tbody>\n",
       "</table>\n",
       "</div>"
      ],
      "text/plain": [
       "   0  1  2  3  4  5  6  7  8  9\n",
       "0  0  1  2  3  4  5  6  7  8  9\n",
       "1  0  1  2  3  4  5  6  7  8  9"
      ]
     },
     "execution_count": 14,
     "metadata": {},
     "output_type": "execute_result"
    }
   ],
   "source": [
    "pd.DataFrame([[y for y in range(10)] for x in range(2)])"
   ]
  },
  {
   "cell_type": "code",
   "execution_count": 10,
   "metadata": {},
   "outputs": [
    {
     "data": {
      "text/html": [
       "<div>\n",
       "<style scoped>\n",
       "    .dataframe tbody tr th:only-of-type {\n",
       "        vertical-align: middle;\n",
       "    }\n",
       "\n",
       "    .dataframe tbody tr th {\n",
       "        vertical-align: top;\n",
       "    }\n",
       "\n",
       "    .dataframe thead th {\n",
       "        text-align: right;\n",
       "    }\n",
       "</style>\n",
       "<table border=\"1\" class=\"dataframe\">\n",
       "  <thead>\n",
       "    <tr style=\"text-align: right;\">\n",
       "      <th></th>\n",
       "      <th>0</th>\n",
       "      <th>1</th>\n",
       "      <th>2</th>\n",
       "      <th>3</th>\n",
       "      <th>4</th>\n",
       "      <th>5</th>\n",
       "      <th>6</th>\n",
       "      <th>7</th>\n",
       "      <th>8</th>\n",
       "      <th>9</th>\n",
       "    </tr>\n",
       "  </thead>\n",
       "  <tbody>\n",
       "    <tr>\n",
       "      <th>0</th>\n",
       "      <td>0</td>\n",
       "      <td>1</td>\n",
       "      <td>2</td>\n",
       "      <td>3</td>\n",
       "      <td>4</td>\n",
       "      <td>5</td>\n",
       "      <td>6</td>\n",
       "      <td>7</td>\n",
       "      <td>8</td>\n",
       "      <td>9</td>\n",
       "    </tr>\n",
       "    <tr>\n",
       "      <th>1</th>\n",
       "      <td>2</td>\n",
       "      <td>3</td>\n",
       "      <td>4</td>\n",
       "      <td>5</td>\n",
       "      <td>6</td>\n",
       "      <td>7</td>\n",
       "      <td>8</td>\n",
       "      <td>9</td>\n",
       "      <td>10</td>\n",
       "      <td>11</td>\n",
       "    </tr>\n",
       "    <tr>\n",
       "      <th>2</th>\n",
       "      <td>4</td>\n",
       "      <td>5</td>\n",
       "      <td>6</td>\n",
       "      <td>7</td>\n",
       "      <td>8</td>\n",
       "      <td>9</td>\n",
       "      <td>10</td>\n",
       "      <td>11</td>\n",
       "      <td>12</td>\n",
       "      <td>13</td>\n",
       "    </tr>\n",
       "  </tbody>\n",
       "</table>\n",
       "</div>"
      ],
      "text/plain": [
       "   0  1  2  3  4  5   6   7   8   9\n",
       "0  0  1  2  3  4  5   6   7   8   9\n",
       "1  2  3  4  5  6  7   8   9  10  11\n",
       "2  4  5  6  7  8  9  10  11  12  13"
      ]
     },
     "execution_count": 10,
     "metadata": {},
     "output_type": "execute_result"
    }
   ],
   "source": [
    "pd.DataFrame([[x * 2 + y for y in range(10)] for x in range(3)])"
   ]
  }
 ],
 "metadata": {
  "kernelspec": {
   "display_name": "Python 3.11.0 64-bit",
   "language": "python",
   "name": "python3"
  },
  "language_info": {
   "codemirror_mode": {
    "name": "ipython",
    "version": 3
   },
   "file_extension": ".py",
   "mimetype": "text/x-python",
   "name": "python",
   "nbconvert_exporter": "python",
   "pygments_lexer": "ipython3",
   "version": "3.11.7"
  },
  "orig_nbformat": 4,
  "vscode": {
   "interpreter": {
    "hash": "12d34147660ad040bf29c06cb999f9351a730cb5c0cc3b5a8b9359c52ff63857"
   }
  }
 },
 "nbformat": 4,
 "nbformat_minor": 2
}
