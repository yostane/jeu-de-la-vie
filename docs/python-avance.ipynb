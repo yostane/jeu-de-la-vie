{
 "cells": [
  {
   "cell_type": "markdown",
   "metadata": {},
   "source": [
    "# Fonctionnalités avancées\n",
    "\n",
    "## Compréhension de liste\n",
    "\n",
    "- Permet de créer des listes à partir d'un itérateur\n",
    "- Un itérateur est tout ce qui peut être parcouru dans un **for-each**\n",
    "- Syntaxe 1: **[** 'valeur de l'élélemnt' **for**  'varialbe de parcrous' **in** itérateur **]**\n",
    "- Syntaxe 2: **[** 'valeur de l'élélemnt' **for**  'varialbe de parcrous' **in** itérateur **if** condition **]**"
   ]
  },
  {
   "cell_type": "code",
   "execution_count": 23,
   "metadata": {},
   "outputs": [
    {
     "name": "stdout",
     "output_type": "stream",
     "text": [
      "[0, 0, 0, 0, 0, 0, 0, 0]\n",
      "[x for x in range(4)] -> [0, 1, 2, 3]\n",
      "[x * 2 for x in range(4)] -> [0, 2, 4, 6]\n",
      "[x + 2 for x in range(4) if x % 2 == 0] -> [2, 4]\n",
      "[len(x) for x in items] -> [1, 4, 6]\n",
      "[x[2:] for x in items] -> ['', 've', 'thon']\n",
      "[x[2:] for x in items if len(x) > 2] -> ['ve', 'thon']\n"
     ]
    }
   ],
   "source": [
    "numbers = [0 for x in range(8)]\n",
    "print(numbers)\n",
    "print(\"[x for x in range(4)] ->\", [x for x in range(4)])\n",
    "print(\"[x * 2 for x in range(4)] ->\", [x * 2 for x in range(4)])\n",
    "print(\"[x + 2 for x in range(4) if x % 2 == 0] ->\",\n",
    "      [x + 2 for x in range(4) if x % 2 == 0])\n",
    "\n",
    "items = [\"I\", \"love\", \"python\"]\n",
    "print(\"[len(x) for x in items] ->\", [len(x) for x in items])\n",
    "print(\"[x[2:] for x in items] ->\", [x[2:]\n",
    "      for x in items])\n",
    "print(\"[x[2:] for x in items if len(x) > 2] ->\", [x[2:]\n",
    "      for x in items if len(x) > 2])\n"
   ]
  },
  {
   "cell_type": "markdown",
   "metadata": {},
   "source": [
    "## Listes à deux dimensions\n",
    "\n",
    "- Elles sont vues comme des listes dont chaque élément est une autre list\n",
    "- Il n'est pas nécessaire que les sous-listes aisent le même nombre d'éléments"
   ]
  },
  {
   "cell_type": "code",
   "execution_count": 15,
   "metadata": {},
   "outputs": [
    {
     "name": "stdout",
     "output_type": "stream",
     "text": [
      "t -> [[11, 12, 5, 2], [15, 6]] - t[0] -> [11, 12, 5, 2] - t[0][1] -> 12\n",
      "ligne: [11, 12, 5, 2]\n",
      "ligne: [15, 6]\n",
      "len(t): 2\n",
      "i -> 0 - t[i] -> [11, 12, 5, 2]\n",
      "i -> 1 - t[i] -> [15, 6]\n"
     ]
    }
   ],
   "source": [
    "t = [[11, 12, 5, 2], [15, 6]]\n",
    "print(\"t ->\", t, \"- t[0] ->\", t[0], \"- t[0][1] ->\", t[0][1])\n",
    "\n",
    "for ligne in t:\n",
    "  print(\"ligne:\", ligne)\n",
    "\n",
    "print(\"len(t):\", len(t))\n",
    "for i in range(len(t)):\n",
    "  print(\"i ->\", i, \"- t[i] ->\", t[i])\n"
   ]
  },
  {
   "cell_type": "markdown",
   "metadata": {},
   "source": [
    "- Si toutes les sous-listes ont le même nombre d'éléments, on aura alors une matrice\n",
    "  - Lenombre de lignes est le nombre d'éléments de la liste mère\n",
    "  - Le nombre de colonnes est le nombre d'éléments des sous-listes"
   ]
  },
  {
   "cell_type": "code",
   "execution_count": 24,
   "metadata": {},
   "outputs": [
    {
     "name": "stdout",
     "output_type": "stream",
     "text": [
      "Nombre de ligne de la matrices -> 2\n",
      "Nombre de colonnes de la matrices -> 3\n",
      "La matrice a  2 ligne et  3 colonnes\n"
     ]
    }
   ],
   "source": [
    "m = [[11, 12, 5], [15, 6, -5]]\n",
    "print(\"Nombre de ligne de la matrices ->\", len(m))\n",
    "print(\"Nombre de colonnes de la matrices ->\", len(m[0]))\n",
    "\n",
    "l, c = len(m), len(m[0])\n",
    "print(\"La matrice a\", l, \"ligne et\", c, \"colonnes\")"
   ]
  },
  {
   "cell_type": "markdown",
   "metadata": {},
   "source": [
    "- On peut parcourir un tableau à deux dimensions avec une deux boucles for imbriquées"
   ]
  },
  {
   "cell_type": "code",
   "execution_count": 11,
   "metadata": {},
   "outputs": [
    {
     "name": "stdout",
     "output_type": "stream",
     "text": [
      "element 11\n",
      "element 12\n",
      "element 5\n",
      "element 2\n",
      "element 15\n",
      "element 6\n"
     ]
    }
   ],
   "source": [
    "for ligne in t:\n",
    "  for j in ligne:\n",
    "    print(\"element\", j)\n"
   ]
  },
  {
   "cell_type": "code",
   "execution_count": 16,
   "metadata": {},
   "outputs": [
    {
     "name": "stdout",
     "output_type": "stream",
     "text": [
      "i 0 t[i] [11, 12, 5, 2]\n",
      "i -> 0 - j -> 0 - t[i][j] -> 11\n",
      "i -> 0 - j -> 1 - t[i][j] -> 12\n",
      "i -> 0 - j -> 2 - t[i][j] -> 5\n",
      "i -> 0 - j -> 3 - t[i][j] -> 2\n",
      "i 1 t[i] [15, 6]\n",
      "i -> 1 - j -> 0 - t[i][j] -> 15\n",
      "i -> 1 - j -> 1 - t[i][j] -> 6\n"
     ]
    }
   ],
   "source": [
    "for i in range(len(t)):\n",
    "  print(\"i\", i, \"t[i]\", t[i])\n",
    "  for j in range(len(t[i])):\n",
    "      print(\"i ->\", i, \"- j ->\", j, \"- t[i][j] ->\", t[i][j])"
   ]
  },
  {
   "cell_type": "markdown",
   "metadata": {},
   "source": [
    "## Génération d'une liste à deux dimensions\n",
    "\n"
   ]
  }
 ],
 "metadata": {
  "kernelspec": {
   "display_name": "Python 3.10.0 64-bit",
   "language": "python",
   "name": "python3"
  },
  "language_info": {
   "codemirror_mode": {
    "name": "ipython",
    "version": 3
   },
   "file_extension": ".py",
   "mimetype": "text/x-python",
   "name": "python",
   "nbconvert_exporter": "python",
   "pygments_lexer": "ipython3",
   "version": "3.10.0"
  },
  "orig_nbformat": 4,
  "vscode": {
   "interpreter": {
    "hash": "811b60536634b595a3540a6f9dd24038cf6b6ef0618bff01fac9b0d724d62e11"
   }
  }
 },
 "nbformat": 4,
 "nbformat_minor": 2
}
